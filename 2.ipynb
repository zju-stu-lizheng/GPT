{
 "cells": [
  {
   "cell_type": "code",
   "execution_count": 5,
   "metadata": {},
   "outputs": [],
   "source": [
    "from gpt2_lm import GPT2LMHeadModel\n",
    "from torch.utils.data import TensorDataset\n",
    "from torch.utils.data import DataLoader\n",
    "from tqdm import trange\n",
    "\n",
    "from transformers import GPT2Tokenizer\n",
    "import torch"
   ]
  },
  {
   "cell_type": "code",
   "execution_count": 6,
   "metadata": {},
   "outputs": [],
   "source": [
    "model_path = './models/gpt-2/'\n",
    "data_path  = './data/'\n",
    "tokenizer = GPT2Tokenizer.from_pretrained(model_path) "
   ]
  },
  {
   "cell_type": "code",
   "execution_count": 7,
   "metadata": {},
   "outputs": [],
   "source": [
    "def do_test(text,length,model):\n",
    "    '''\n",
    "    模型根据前文内容预测后续句子\n",
    "    @params text: 前文\n",
    "    @params length: 后续句子的长度\n",
    "    @params model: 使用的预训练模型(GPT-2)\n",
    "    '''\n",
    "    indexed_tokens = tokenizer.encode(text)\n",
    "    tokens_tensor = torch.tensor([indexed_tokens])\n",
    "    \n",
    "    model.eval()\n",
    "\n",
    "    tokens_tensor = tokens_tensor.to('cuda')\n",
    "    predicted_index = model.generate(input_ids = tokens_tensor,do_sample = False, max_length = length, num_beams = 5, bos_token_id=50257, pad_token_id=15636, eos_token_ids=50256)\n",
    "\n",
    "    total_predicted_text = tokenizer.decode(predicted_index.view(-1))\n",
    "    \n",
    "    print(total_predicted_text)"
   ]
  },
  {
   "cell_type": "code",
   "execution_count": 11,
   "metadata": {},
   "outputs": [
    {
     "name": "stderr",
     "output_type": "stream",
     "text": [
      "Some weights of GPT2LMHeadModel were not initialized from the model checkpoint at ./models/gpt-2/pytorch_model.bin and are newly initialized: ['h.9.attn.masked_bias', 'h.11.attn.masked_bias', 'h.4.attn.masked_bias', 'h.0.attn.masked_bias', 'lm_head.weight', 'h.10.attn.masked_bias', 'h.5.attn.masked_bias', 'h.1.attn.masked_bias', 'h.8.attn.masked_bias', 'h.7.attn.masked_bias', 'h.3.attn.masked_bias', 'h.6.attn.masked_bias', 'h.2.attn.masked_bias']\n",
      "You should probably TRAIN this model on a down-stream task to be able to use it for predictions and inference.\n"
     ]
    },
    {
     "name": "stdout",
     "output_type": "stream",
     "text": [
      "Who is Li BiGor? Li BiGor is a. Li BiGor is a\n"
     ]
    }
   ],
   "source": [
    "DEVICE = torch.device('cuda' if torch.cuda.is_available() else 'cpu')\n",
    "\n",
    "## load model\n",
    "model = GPT2LMHeadModel.from_pretrained(model_path+'pytorch_model.bin',config=model_path+'config.json')\n",
    "model.to(DEVICE)\n",
    "\n",
    "## do a test\n",
    "do_test(text=\"Who is Li BiGor ? Li BiGor is a.\",length=20,model=model)"
   ]
  }
 ],
 "metadata": {
  "interpreter": {
   "hash": "f5fdca9eea62c4c54346f4361c1d4de68d92cfdae4e100538a78aaee25df96b6"
  },
  "kernelspec": {
   "display_name": "Python 3.9.12 ('modelCompression')",
   "language": "python",
   "name": "python3"
  },
  "language_info": {
   "codemirror_mode": {
    "name": "ipython",
    "version": 3
   },
   "file_extension": ".py",
   "mimetype": "text/x-python",
   "name": "python",
   "nbconvert_exporter": "python",
   "pygments_lexer": "ipython3",
   "version": "3.9.12"
  },
  "orig_nbformat": 4
 },
 "nbformat": 4,
 "nbformat_minor": 2
}
